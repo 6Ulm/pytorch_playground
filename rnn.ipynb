{
 "cells": [
  {
   "cell_type": "markdown",
   "metadata": {},
   "source": [
    "# Using RNN for Texts Generation\n",
    "\n",
    "In this notebook, we're going to follow the steps represented in [fast.ai lecture](http://course.fast.ai/lessons/lesson6.html) about recurrent neural networks but using **PyTorch** framework only. The main purpose is to show the internal structure of training loops and schedulers, to explain how you can build your own small tools and libraries to train deep learning models.\n",
    "\n",
    "Note that in this notebook we use a set of simple custom wrappers build on top of **PyTorch** classes and functions. If you would like to see a \"plain\" version of the training loop, check [this script](./rnn_plain.py). \n",
    "\n",
    "\n",
    "## Impots and Global Variables"
   ]
  },
  {
   "cell_type": "code",
   "execution_count": 2,
   "metadata": {},
   "outputs": [],
   "source": [
    "%matplotlib inline"
   ]
  },
  {
   "cell_type": "code",
   "execution_count": 3,
   "metadata": {},
   "outputs": [],
   "source": [
    "import textwrap\n",
    "from os.path import join, expanduser, exists\n",
    "from urllib.error import URLError\n",
    "from urllib.request import urlopen"
   ]
  },
  {
   "cell_type": "code",
   "execution_count": 4,
   "metadata": {},
   "outputs": [],
   "source": [
    "import numpy as np\n",
    "import pandas as pd"
   ]
  },
  {
   "cell_type": "code",
   "execution_count": 5,
   "metadata": {},
   "outputs": [],
   "source": [
    "import torch\n",
    "from torch import nn\n",
    "from torch import optim\n",
    "from torch.nn import functional as F\n",
    "from torchtext.data import Field"
   ]
  },
  {
   "cell_type": "code",
   "execution_count": 6,
   "metadata": {},
   "outputs": [],
   "source": [
    "from core.text import TextDataset\n",
    "from core.loop import Loop, Stepper\n",
    "from core.iterators import SequenceIterator\n",
    "from core.schedule import CosineAnnealingLR\n",
    "from core.callbacks import EarlyStopping, Checkpoint, Logger, History"
   ]
  },
  {
   "cell_type": "code",
   "execution_count": 7,
   "metadata": {},
   "outputs": [],
   "source": [
    "def set_random_seed(state=1):\n",
    "    gens = (np.random.seed, torch.manual_seed, torch.cuda.manual_seed)\n",
    "    for set_state in gens:\n",
    "        set_state(state)"
   ]
  },
  {
   "cell_type": "code",
   "execution_count": 8,
   "metadata": {},
   "outputs": [],
   "source": [
    "RANDOM_STATE = 1\n",
    "set_random_seed(RANDOM_STATE)"
   ]
  },
  {
   "cell_type": "markdown",
   "metadata": {},
   "source": [
    "## Dataset Downloading"
   ]
  },
  {
   "cell_type": "markdown",
   "metadata": {},
   "source": [
    "Use the following cell to download Nietzsche's texts as a single `.txt` file. Note that you'll need manually split the original file into training and validation subsets. The most simple way to do it is to use something similar to the following bash script:\n",
    "```\n",
    "$ cd data/nietzsche\n",
    "$ mkdir train valid\n",
    "$ cat nietzsche.txt | head -7000 > train/train.txt\n",
    "$ cat nietzsche.txt | tail +7001 > valid/valid.txt\n",
    "```"
   ]
  },
  {
   "cell_type": "code",
   "execution_count": 8,
   "metadata": {},
   "outputs": [],
   "source": [
    "def download(url, download_path, expected_size):\n",
    "    if exists(download_path):\n",
    "        print('The file was already downloaded')\n",
    "        return\n",
    "    \n",
    "    try:\n",
    "        r = urlopen(url)\n",
    "    except URLError as e:\n",
    "        print(f'Cannot download the data. Error: {e}')\n",
    "        return\n",
    "    \n",
    "    if r.status != 200:\n",
    "        print(f'HTTP Error: {r.status}')\n",
    "        return\n",
    "    \n",
    "    data = r.read()\n",
    "    if len(data) != expected_size:\n",
    "        print(f'Invalid downloaded array size: {len(data)}')\n",
    "        return\n",
    "    \n",
    "    text = data.decode(encoding='utf-8')\n",
    "    with open(download_path, 'w') as file:\n",
    "        file.write(text)\n",
    "        \n",
    "    print(f'Downloaded: {download_path}')"
   ]
  },
  {
   "cell_type": "code",
   "execution_count": 9,
   "metadata": {},
   "outputs": [],
   "source": [
    "# URL = 'https://s3.amazonaws.com/text-datasets/nietzsche.txt'\n",
    "# PATH = expanduser(join('~', 'data', 'nietzsche', 'nietzsche.txt'))\n",
    "# download(URL, PATH, 600901)"
   ]
  },
  {
   "cell_type": "markdown",
   "metadata": {},
   "source": [
    "## Model Training"
   ]
  },
  {
   "cell_type": "code",
   "execution_count": 10,
   "metadata": {},
   "outputs": [],
   "source": [
    "ROOT = expanduser(join('~', 'data', 'fastai', 'nietzsche'))\n",
    "TRAIN_DIR = join(ROOT, 'trn')\n",
    "VALID_DIR = join(ROOT, 'val')\n",
    "DEVICE = 'cuda:0' if torch.cuda.is_available() else 'cpu'"
   ]
  },
  {
   "cell_type": "code",
   "execution_count": 11,
   "metadata": {},
   "outputs": [],
   "source": [
    "class RNN(nn.Module):\n",
    "\n",
    "    def __init__(self, vocab_size, n_factors, batch_size, n_hidden,\n",
    "                 n_recurrent=1, dropout=0.5, architecture=nn.RNN,\n",
    "                 device=DEVICE):\n",
    "\n",
    "        self.vocab_size = vocab_size\n",
    "        self.n_hidden = n_hidden\n",
    "        self.n_recurrent = n_recurrent\n",
    "        self.device = device\n",
    "\n",
    "        super().__init__()\n",
    "        self.embed = nn.Embedding(vocab_size, n_factors)\n",
    "        self.rnn = architecture(\n",
    "            n_factors, n_hidden, \n",
    "            num_layers=n_recurrent, dropout=dropout)\n",
    "        self.out = nn.Linear(n_hidden, vocab_size)\n",
    "        self.hidden_state = self.init_hidden(batch_size).to(device)\n",
    "        self.batch_size = batch_size\n",
    "        self.to(device)\n",
    "\n",
    "    def forward(self, batch):\n",
    "        bs = batch.size(1)\n",
    "        if bs != self.batch_size:\n",
    "            self.hidden_state = self.init_hidden(bs)\n",
    "            self.batch_size = bs\n",
    "        embeddings = self.embed(batch)\n",
    "        rnn_outputs, h = self.rnn(embeddings, self.hidden_state)\n",
    "        self.hidden_state = truncate_history(h)\n",
    "        linear = self.out(rnn_outputs)\n",
    "        return F.log_softmax(linear, dim=-1).view(-1, self.vocab_size)\n",
    "\n",
    "    def init_hidden(self, batch_size):\n",
    "        if type(self.rnn) == nn.LSTM:\n",
    "            # an LSTM cell requires two hidden states\n",
    "            h = torch.zeros(2, self.n_recurrent, batch_size, self.n_hidden)\n",
    "        else:\n",
    "            h = torch.zeros(self.n_recurrent, batch_size, self.n_hidden)\n",
    "        return h.to(self.device)"
   ]
  },
  {
   "cell_type": "code",
   "execution_count": 12,
   "metadata": {},
   "outputs": [],
   "source": [
    "def truncate_history(v):\n",
    "    if type(v) == torch.Tensor:\n",
    "        return v.detach()\n",
    "    else:\n",
    "        return tuple(truncate_history(x) for x in v)"
   ]
  },
  {
   "cell_type": "code",
   "execution_count": 13,
   "metadata": {},
   "outputs": [],
   "source": [
    "def generate_text(model, field, seed, n=500):\n",
    "    string = seed\n",
    "    for i in range(n):\n",
    "        indexes = field.numericalize(string)\n",
    "        predictions = model(indexes.transpose(0, 1))\n",
    "        last_output = predictions[-1]\n",
    "        [most_probable] = torch.multinomial(last_output.exp(), 1)\n",
    "        char = field.vocab.itos[most_probable]\n",
    "        seed = seed[1:] + char\n",
    "        string += char\n",
    "    return string"
   ]
  },
  {
   "cell_type": "code",
   "execution_count": 14,
   "metadata": {},
   "outputs": [],
   "source": [
    "def pretty_print(text, width=80):\n",
    "    print('\\n'.join(textwrap.wrap(text, width=width)))"
   ]
  },
  {
   "cell_type": "code",
   "execution_count": 15,
   "metadata": {},
   "outputs": [],
   "source": [
    "def show_text(model, field, seed, n=500):\n",
    "    pretty_print(generate_text(model, field, seed, n))"
   ]
  },
  {
   "cell_type": "code",
   "execution_count": 16,
   "metadata": {},
   "outputs": [],
   "source": [
    "def create_dataset(bptt, batch_size, min_freq, new_lines=False):\n",
    "    field = Field(lower=True, tokenize=list)\n",
    "    dataset = TextDataset(field, min_freq, keep_new_lines=new_lines)\n",
    "    factory = lambda seq: SequenceIterator(seq, bptt, batch_size)\n",
    "    dataset.build(train=TRAIN_DIR, valid=VALID_DIR, iterator_factory=factory)\n",
    "    return dataset, field"
   ]
  },
  {
   "cell_type": "code",
   "execution_count": 17,
   "metadata": {},
   "outputs": [],
   "source": [
    "batch_size = 64\n",
    "bptt = 32\n",
    "min_freq = 3\n",
    "n_hidden = 512\n",
    "n_factors = 42\n",
    "n_epochs = 100\n",
    "n_recurrent = 2"
   ]
  },
  {
   "cell_type": "code",
   "execution_count": 57,
   "metadata": {},
   "outputs": [],
   "source": [
    "dataset, field = create_dataset(bptt, batch_size, min_freq)"
   ]
  },
  {
   "cell_type": "code",
   "execution_count": 58,
   "metadata": {},
   "outputs": [],
   "source": [
    "train_iters = dataset['train'].total_iters"
   ]
  },
  {
   "cell_type": "code",
   "execution_count": 59,
   "metadata": {},
   "outputs": [],
   "source": [
    "callbacks = [\n",
    "    EarlyStopping(patience=25),\n",
    "    Checkpoint(),\n",
    "    History(),\n",
    "    Logger()\n",
    "]"
   ]
  },
  {
   "cell_type": "code",
   "execution_count": 60,
   "metadata": {},
   "outputs": [
    {
     "name": "stdout",
     "output_type": "stream",
     "text": [
      "Epoch    1: train - 1.8331 valid - 1.3714\n",
      "Epoch    2: train - 1.6067 valid - 1.5533\n",
      "Epoch    3: train - 1.4359 valid - 1.4690\n",
      "Epoch    4: train - 1.4699 valid - 1.5206\n",
      "Epoch    5: train - 1.4214 valid - 1.4684\n",
      "Epoch    6: train - 1.3372 valid - 1.4096\n",
      "Epoch    7: train - 1.2690 valid - 1.3754\n",
      "Epoch    8: train - 1.3652 valid - 1.4514\n",
      "Epoch    9: train - 1.3973 valid - 1.4581\n",
      "Epoch   10: train - 1.3675 valid - 1.4326\n",
      "Epoch   11: train - 1.3262 valid - 1.4134\n",
      "Epoch   12: train - 1.2815 valid - 1.3819\n",
      "Epoch   13: train - 1.2408 valid - 1.3604\n",
      "Epoch   14: train - 1.2130 valid - 1.3435\n",
      "Epoch   15: train - 1.1957 valid - 1.3353\n",
      "Epoch   16: train - 1.3098 valid - 1.4216\n",
      "Epoch   17: train - 1.3870 valid - 1.4546\n",
      "Epoch   18: train - 1.3962 valid - 1.4663\n",
      "Epoch   19: train - 1.3712 valid - 1.4536\n",
      "Epoch   20: train - 1.3479 valid - 1.4290\n",
      "Epoch   21: train - 1.3241 valid - 1.4126\n",
      "Epoch   22: train - 1.3003 valid - 1.3989\n",
      "Epoch   23: train - 1.2758 valid - 1.3863\n",
      "Epoch   24: train - 1.2552 valid - 1.3711\n",
      "Epoch   25: train - 1.2356 valid - 1.3583\n",
      "Epoch   26: train - 1.2211 valid - 1.3460\n",
      "Epoch   27: train - 1.2028 valid - 1.3390\n",
      "Epoch   28: train - 1.1851 valid - 1.3364\n",
      "Epoch   29: train - 1.1720 valid - 1.3305\n",
      "Epoch   30: train - 1.1643 valid - 1.3292\n",
      "Epoch   31: train - 1.1591 valid - 1.3257\n",
      "Epoch   32: train - 1.2591 valid - 1.4017\n",
      "Epoch   33: train - 1.3761 valid - 1.4631\n",
      "Epoch   34: train - 1.4089 valid - 1.4840\n",
      "Epoch   35: train - 1.3916 valid - 1.4648\n",
      "Epoch   36: train - 1.3723 valid - 1.4549\n",
      "Epoch   37: train - 1.3537 valid - 1.4407\n",
      "Epoch   38: train - 1.3384 valid - 1.4347\n",
      "Epoch   39: train - 1.3346 valid - 1.4308\n",
      "Epoch   40: train - 1.3204 valid - 1.4178\n",
      "Epoch   41: train - 1.3095 valid - 1.4105\n",
      "Epoch   42: train - 1.3014 valid - 1.4096\n",
      "Epoch   43: train - 1.2956 valid - 1.4022\n",
      "Epoch   44: train - 1.2825 valid - 1.3938\n",
      "Epoch   45: train - 1.2746 valid - 1.3836\n",
      "Epoch   46: train - 1.2598 valid - 1.3800\n",
      "Epoch   47: train - 1.2512 valid - 1.3713\n",
      "Epoch   48: train - 1.2415 valid - 1.3661\n",
      "Epoch   49: train - 1.2304 valid - 1.3650\n",
      "Epoch   50: train - 1.2181 valid - 1.3565\n",
      "Epoch   51: train - 1.2097 valid - 1.3499\n",
      "Epoch   52: train - 1.2054 valid - 1.3461\n",
      "Epoch   53: train - 1.1990 valid - 1.3425\n",
      "Epoch   54: train - 1.1859 valid - 1.3407\n",
      "Epoch   55: train - 1.1799 valid - 1.3396\n"
     ]
    }
   ],
   "source": [
    "model = RNN(\n",
    "    dataset.vocab_size,\n",
    "    n_factors=n_factors,\n",
    "    batch_size=batch_size,\n",
    "    n_hidden=n_hidden,\n",
    "    n_recurrent=n_recurrent,\n",
    "    architecture=nn.LSTM)\n",
    "\n",
    "optimizer = optim.Adam(model.parameters(), lr=1e-2)\n",
    "scheduler = CosineAnnealingLR(optimizer, t_max=train_iters/2, eta_min=1e-6)\n",
    "stepper = Stepper(model, optimizer, scheduler, F.nll_loss)\n",
    "\n",
    "loop = Loop(stepper)\n",
    "\n",
    "loop.run(train_data=dataset['train'],\n",
    "         valid_data=dataset['valid'],\n",
    "         callbacks=callbacks,\n",
    "         epochs=n_epochs)"
   ]
  },
  {
   "cell_type": "code",
   "execution_count": 65,
   "metadata": {},
   "outputs": [
    {
     "data": {
      "image/png": "[encoded data removed]",
      "text/plain": [
       "<matplotlib.figure.Figure at 0x7f55752a0400>"
      ]
     },
     "metadata": {},
     "output_type": "display_data"
    }
   ],
   "source": [
    "lrs = pd.DataFrame(loop.lr_schedule())\n",
    "_ = lrs.plot(figsize=(12, 8))"
   ]
  },
  {
   "cell_type": "code",
   "execution_count": 66,
   "metadata": {},
   "outputs": [],
   "source": [
    "path = loop['Checkpoint'].best_model\n",
    "best_weights = torch.load(path)\n",
    "model.load_state_dict(best_weights)"
   ]
  },
  {
   "cell_type": "code",
   "execution_count": 67,
   "metadata": {},
   "outputs": [
    {
     "name": "stdout",
     "output_type": "stream",
     "text": [
      "For those landers from an its rast--for finds that it is--one may be required\n",
      "thought lain the sers tin belief in the ennoble stiff outsotive philosophers in\n",
      "its; thoi best above himself to truth (short, it still! his thought but the\n",
      "myself one would say mires. the sentiments of interpretation, the extent; there\n",
      "allow? therefore forms in assure a given else which, the warthing and thoughts,\n",
      "as truth, three who, wherers. as a way which brows no instinct, a respect a\n",
      "\"either redestraise has tongated, neve\n"
     ]
    }
   ],
   "source": [
    "show_text(model, field, 'For thos')"
   ]
  },
  {
   "cell_type": "markdown",
   "metadata": {},
   "source": [
    "## Bonus: Custom Dataset"
   ]
  },
  {
   "cell_type": "code",
   "execution_count": 30,
   "metadata": {},
   "outputs": [],
   "source": [
    "from pathlib import Path"
   ]
  },
  {
   "cell_type": "code",
   "execution_count": 31,
   "metadata": {},
   "outputs": [],
   "source": [
    "DATA_ROOT = (Path.home() / 'data' / 'azlyrics').expanduser()\n",
    "ARTISTS_DIR = DATA_ROOT / 'many'\n",
    "DATASET_DIR = DATA_ROOT / 'lyrics'\n",
    "TRAIN_DIR = DATASET_DIR / 'train'\n",
    "VALID_DIR = DATASET_DIR / 'valid'"
   ]
  },
  {
   "cell_type": "code",
   "execution_count": 32,
   "metadata": {},
   "outputs": [],
   "source": [
    "!rm -rf {DATASET_DIR}"
   ]
  },
  {
   "cell_type": "code",
   "execution_count": 33,
   "metadata": {},
   "outputs": [],
   "source": [
    "index = 0\n",
    "songs = []\n",
    "for subfolder in ARTISTS_DIR.iterdir():\n",
    "    artist = subfolder.name\n",
    "    for filename in subfolder.glob('*.txt'):\n",
    "        with open(filename) as file:\n",
    "            content = file.read()\n",
    "        songs.append((index, content))\n",
    "        index += 1\n",
    "\n",
    "np.random.shuffle(songs)\n",
    "total = len(songs)\n",
    "train_size = 0.8\n",
    "train_count = int(total * train_size)"
   ]
  },
  {
   "cell_type": "code",
   "execution_count": 35,
   "metadata": {},
   "outputs": [
    {
     "data": {
      "text/plain": [
       "523"
      ]
     },
     "execution_count": 35,
     "metadata": {},
     "output_type": "execute_result"
    }
   ],
   "source": [
    "train_count"
   ]
  },
  {
   "cell_type": "code",
   "execution_count": 36,
   "metadata": {},
   "outputs": [],
   "source": [
    "def move_songs(songs, destination):\n",
    "    if not destination.exists():\n",
    "        destination.mkdir(parents=True)\n",
    "    for index, text in songs:\n",
    "        filename = destination / f'{index}.txt'\n",
    "        with open(filename, 'w') as file:\n",
    "            file.write(text)"
   ]
  },
  {
   "cell_type": "code",
   "execution_count": 37,
   "metadata": {},
   "outputs": [],
   "source": [
    "move_songs(songs[:train_count], TRAIN_DIR)"
   ]
  },
  {
   "cell_type": "code",
   "execution_count": 38,
   "metadata": {},
   "outputs": [],
   "source": [
    "move_songs(songs[train_count:], VALID_DIR)"
   ]
  },
  {
   "cell_type": "code",
   "execution_count": 99,
   "metadata": {},
   "outputs": [],
   "source": [
    "bptt = 32\n",
    "batch_size = 64\n",
    "min_freq = 20\n",
    "\n",
    "field = Field(lower=True, tokenize=list)\n",
    "dataset = TextDataset(field, min_freq, keep_new_lines=True)\n",
    "factory = lambda seq: SequenceIterator(seq, bptt, batch_size)\n",
    "dataset.build(train=TRAIN_DIR, valid=VALID_DIR, iterator_factory=factory)"
   ]
  },
  {
   "cell_type": "code",
   "execution_count": 100,
   "metadata": {},
   "outputs": [],
   "source": [
    "train_iters = dataset['train'].total_iters"
   ]
  },
  {
   "cell_type": "code",
   "execution_count": 101,
   "metadata": {},
   "outputs": [
    {
     "name": "stdout",
     "output_type": "stream",
     "text": [
      "Epoch    1: train - 2.5087 valid - 1.6703\n",
      "Epoch    2: train - 2.0627 valid - 1.8893\n",
      "Epoch    3: train - 1.6937 valid - 1.7633\n",
      "Epoch    4: train - 1.6243 valid - 1.7094\n",
      "Epoch    5: train - 1.5368 valid - 1.6298\n",
      "Epoch    6: train - 1.4539 valid - 1.5566\n",
      "Epoch    7: train - 1.4014 valid - 1.5042\n",
      "Epoch    8: train - 1.4139 valid - 1.5321\n",
      "Epoch    9: train - 1.4209 valid - 1.5287\n",
      "Epoch   10: train - 1.3855 valid - 1.5062\n",
      "Epoch   11: train - 1.3510 valid - 1.4801\n",
      "Epoch   12: train - 1.3279 valid - 1.4504\n",
      "Epoch   13: train - 1.2957 valid - 1.4327\n",
      "Epoch   14: train - 1.2761 valid - 1.4110\n",
      "Epoch   15: train - 1.2698 valid - 1.3990\n",
      "Epoch   16: train - 1.2885 valid - 1.4402\n",
      "Epoch   17: train - 1.3305 valid - 1.4612\n",
      "Epoch   18: train - 1.3214 valid - 1.4629\n",
      "Epoch   19: train - 1.3056 valid - 1.4600\n",
      "Epoch   20: train - 1.2878 valid - 1.4475\n",
      "Epoch   21: train - 1.2726 valid - 1.4370\n",
      "Epoch   22: train - 1.2615 valid - 1.4234\n",
      "Epoch   23: train - 1.2449 valid - 1.4131\n",
      "Epoch   24: train - 1.2233 valid - 1.4066\n",
      "Epoch   25: train - 1.2122 valid - 1.3984\n",
      "Epoch   26: train - 1.2032 valid - 1.3856\n",
      "Epoch   27: train - 1.1910 valid - 1.3779\n",
      "Epoch   28: train - 1.1834 valid - 1.3674\n",
      "Epoch   29: train - 1.1809 valid - 1.3619\n",
      "Epoch   30: train - 1.1753 valid - 1.3566\n",
      "Epoch   31: train - 1.1655 valid - 1.3554\n",
      "Epoch   32: train - 1.2024 valid - 1.4027\n",
      "Epoch   33: train - 1.2536 valid - 1.4381\n",
      "Epoch   34: train - 1.2532 valid - 1.4415\n",
      "Epoch   35: train - 1.2501 valid - 1.4361\n",
      "Epoch   36: train - 1.2405 valid - 1.4382\n",
      "Epoch   37: train - 1.2375 valid - 1.4360\n",
      "Epoch   38: train - 1.2217 valid - 1.4307\n",
      "Epoch   39: train - 1.2178 valid - 1.4225\n",
      "Epoch   40: train - 1.2137 valid - 1.4159\n",
      "Epoch   41: train - 1.2018 valid - 1.4133\n",
      "Epoch   42: train - 1.1975 valid - 1.4076\n",
      "Epoch   43: train - 1.1868 valid - 1.4094\n",
      "Epoch   44: train - 1.1814 valid - 1.4030\n",
      "Epoch   45: train - 1.1719 valid - 1.4064\n",
      "Epoch   46: train - 1.1639 valid - 1.4019\n",
      "Epoch   47: train - 1.1594 valid - 1.3974\n",
      "Epoch   48: train - 1.1525 valid - 1.3949\n",
      "Epoch   49: train - 1.1486 valid - 1.3925\n",
      "Epoch   50: train - 1.1366 valid - 1.3888\n",
      "Epoch   51: train - 1.1290 valid - 1.3820\n",
      "Epoch   52: train - 1.1238 valid - 1.3818\n",
      "Epoch   53: train - 1.1253 valid - 1.3757\n",
      "Epoch   54: train - 1.1147 valid - 1.3733\n",
      "Epoch   55: train - 1.1081 valid - 1.3701\n",
      "Epoch   56: train - 1.1157 valid - 1.3649\n",
      "Epoch   57: train - 1.1011 valid - 1.3621\n",
      "Epoch   58: train - 1.0982 valid - 1.3605\n",
      "Epoch   59: train - 1.1000 valid - 1.3580\n",
      "Epoch   60: train - 1.0904 valid - 1.3580\n",
      "Epoch   61: train - 1.0895 valid - 1.3561\n",
      "Epoch   62: train - 1.0938 valid - 1.3530\n",
      "Epoch   63: train - 1.0863 valid - 1.3537\n",
      "Epoch   64: train - 1.1197 valid - 1.4010\n",
      "Epoch   65: train - 1.1924 valid - 1.4360\n",
      "Epoch   66: train - 1.1959 valid - 1.4422\n",
      "Epoch   67: train - 1.1921 valid - 1.4411\n",
      "Epoch   68: train - 1.1946 valid - 1.4358\n",
      "Epoch   69: train - 1.1852 valid - 1.4334\n",
      "Epoch   70: train - 1.1816 valid - 1.4335\n",
      "Epoch   71: train - 1.1798 valid - 1.4304\n",
      "Epoch   72: train - 1.1759 valid - 1.4286\n",
      "Epoch   73: train - 1.1763 valid - 1.4254\n",
      "Epoch   74: train - 1.1758 valid - 1.4277\n",
      "Epoch   75: train - 1.1724 valid - 1.4290\n",
      "Epoch   76: train - 1.1704 valid - 1.4251\n",
      "Epoch   77: train - 1.1778 valid - 1.4261\n",
      "Epoch   78: train - 1.1677 valid - 1.4273\n",
      "Epoch   79: train - 1.1615 valid - 1.4221\n",
      "Epoch   80: train - 1.1623 valid - 1.4246\n",
      "Epoch   81: train - 1.1536 valid - 1.4219\n",
      "Epoch   82: train - 1.1505 valid - 1.4186\n",
      "Epoch   83: train - 1.1541 valid - 1.4164\n",
      "Epoch   84: train - 1.1430 valid - 1.4208\n",
      "Epoch   85: train - 1.1446 valid - 1.4186\n",
      "Epoch   86: train - 1.1419 valid - 1.4161\n",
      "Epoch   87: train - 1.1490 valid - 1.4174\n",
      "Epoch   88: train - 1.1339 valid - 1.4166\n",
      "Epoch   89: train - 1.1362 valid - 1.4122\n",
      "Epoch   90: train - 1.1267 valid - 1.4133\n",
      "Epoch   91: train - 1.1211 valid - 1.4077\n",
      "Epoch   92: train - 1.1212 valid - 1.4041\n",
      "Epoch   93: train - 1.1219 valid - 1.4054\n",
      "Epoch   94: train - 1.1081 valid - 1.4041\n",
      "Epoch   95: train - 1.1042 valid - 1.4083\n",
      "Epoch   96: train - 1.1055 valid - 1.4027\n",
      "Epoch   97: train - 1.1006 valid - 1.4033\n",
      "Epoch   98: train - 1.0916 valid - 1.4044\n",
      "Epoch   99: train - 1.0926 valid - 1.4036\n"
     ]
    }
   ],
   "source": [
    "model = RNN(\n",
    "    dataset.vocab_size,\n",
    "    n_factors=50,\n",
    "    batch_size=batch_size,\n",
    "    n_hidden=512,\n",
    "    n_recurrent=3,\n",
    "    architecture=nn.LSTM)\n",
    "\n",
    "callbacks = [\n",
    "    EarlyStopping(patience=50),\n",
    "    Logger(log_every=1),\n",
    "    Checkpoint(),\n",
    "    History()\n",
    "]\n",
    "\n",
    "optimizer = optim.Adam(model.parameters(), lr=1e-2)\n",
    "scheduler = CosineAnnealingLR(optimizer, t_max=train_iters/4, cycle_mult=2, eta_min=1e-5)\n",
    "stepper = Stepper(model, optimizer, scheduler, F.nll_loss)\n",
    "\n",
    "loop = Loop(stepper)\n",
    "\n",
    "loop.run(train_data=dataset['train'],\n",
    "         valid_data=dataset['valid'],\n",
    "         callbacks=callbacks,\n",
    "         epochs=100)"
   ]
  },
  {
   "cell_type": "code",
   "execution_count": 102,
   "metadata": {},
   "outputs": [],
   "source": [
    "path = loop['Checkpoint'].best_model\n",
    "best_weights = torch.load(path)\n",
    "model.load_state_dict(best_weights)"
   ]
  },
  {
   "cell_type": "code",
   "execution_count": 109,
   "metadata": {},
   "outputs": [
    {
     "name": "stdout",
     "output_type": "stream",
     "text": [
      "Best model: /home/ck/code/pytorch_projects/model_valid_avg_loss_1.3530.weights\n"
     ]
    }
   ],
   "source": [
    "print('Best model:', path)"
   ]
  },
  {
   "cell_type": "code",
   "execution_count": 103,
   "metadata": {},
   "outputs": [],
   "source": [
    "text = generate_text(model, field, 'Deep Song\\n', n=250)"
   ]
  },
  {
   "cell_type": "code",
   "execution_count": 104,
   "metadata": {},
   "outputs": [
    {
     "name": "stdout",
     "output_type": "stream",
     "text": [
      "Deep Song\n",
      "please she had love in crazy star\n",
      "you're take a samboridal horn to straight\n",
      "it's already bleedin' of our angel - yeah\n",
      "i do mentonanin singsithbost,\n",
      "you're in mine\n",
      "speakless inteceven toonst like you rain\n",
      "you lived out\n",
      "rhyme, i know\n",
      "when dmine injose \n"
     ]
    }
   ],
   "source": [
    "print(text)"
   ]
  },
  {
   "cell_type": "code",
   "execution_count": 106,
   "metadata": {},
   "outputs": [
    {
     "name": "stdout",
     "output_type": "stream",
     "text": [
      "Deep Song\n",
      "hear the skip is right,\n",
      "force like things that tite\n",
      "you just see him color\n",
      "you will leave me down, beggan' heart's burning up the life\n",
      "so many way to give, carry on\n",
      "there is gone for the night but i f\n"
     ]
    }
   ],
   "source": [
    "text = generate_text(model, field, 'Deep Song\\n', n=200)\n",
    "print(text)"
   ]
  },
  {
   "cell_type": "code",
   "execution_count": 107,
   "metadata": {},
   "outputs": [
    {
     "name": "stdout",
     "output_type": "stream",
     "text": [
      "Deep Song\n",
      "waiting back the same old weak since\"\n",
      "i wanna see your frown\n",
      "i was seen to school\n",
      "face on down.\n",
      "and when you made to be close away you now\n",
      "she vnower that i never let you wonder than he never heard the black\n",
      "you cannot give you history bang!\n",
      "the last one night man\n",
      "people we pray now\n",
      "is the takes so are way to me cold\n",
      "i walk on victims like they\n",
      "caugat the sign on your love with the part\n",
      "and the herous colon and sun to be\n",
      "never look on where you heard a replies\n",
      "or isn't faturing out\n",
      "you were gonn\n"
     ]
    }
   ],
   "source": [
    "text = generate_text(model, field, 'Deep Song\\n', n=500)\n",
    "print(text)"
   ]
  },
  {
   "cell_type": "code",
   "execution_count": null,
   "metadata": {},
   "outputs": [],
   "source": []
  }
 ],
 "metadata": {
  "kernelspec": {
   "display_name": "Python 3",
   "language": "python",
   "name": "python3"
  },
  "language_info": {
   "codemirror_mode": {
    "name": "ipython",
    "version": 3
   },
   "file_extension": ".py",
   "mimetype": "text/x-python",
   "name": "python",
   "nbconvert_exporter": "python",
   "pygments_lexer": "ipython3",
   "version": "3.6.4"
  }
 },
 "nbformat": 4,
 "nbformat_minor": 2
}
