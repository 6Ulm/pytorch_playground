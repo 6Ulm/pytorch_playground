{
 "cells": [
  {
   "cell_type": "markdown",
   "metadata": {},
   "source": [
    "# Classifying Names with a Character-Level RNN\n",
    "\n",
    "The notebook is based on the [this PyTorch Tutorial](https://pytorch.org/tutorials/intermediate/char_rnn_classification_tutorial.html#creating-the-network)."
   ]
  },
  {
   "cell_type": "code",
   "execution_count": 1,
   "metadata": {},
   "outputs": [],
   "source": [
    "%matplotlib inline"
   ]
  },
  {
   "cell_type": "code",
   "execution_count": 54,
   "metadata": {},
   "outputs": [],
   "source": [
    "import glob\n",
    "import math\n",
    "import time\n",
    "import random\n",
    "from os.path import expanduser, basename, splitext"
   ]
  },
  {
   "cell_type": "code",
   "execution_count": 66,
   "metadata": {},
   "outputs": [],
   "source": [
    "import matplotlib.pyplot as plt\n",
    "import matplotlib.ticker as ticker"
   ]
  },
  {
   "cell_type": "code",
   "execution_count": 3,
   "metadata": {},
   "outputs": [],
   "source": [
    "import torch\n",
    "import torch.nn as nn\n",
    "import torch.optim as optim\n",
    "import torch.nn.functional as F"
   ]
  },
  {
   "cell_type": "code",
   "execution_count": 4,
   "metadata": {},
   "outputs": [
    {
     "data": {
      "text/plain": [
       "<torch._C.Generator at 0x7f8e4adf78f0>"
      ]
     },
     "execution_count": 4,
     "metadata": {},
     "output_type": "execute_result"
    }
   ],
   "source": [
    "torch.manual_seed(1)"
   ]
  },
  {
   "cell_type": "code",
   "execution_count": 6,
   "metadata": {},
   "outputs": [
    {
     "name": "stdout",
     "output_type": "stream",
     "text": [
      "--2018-08-20 21:45:35--  https://download.pytorch.org/tutorial/data.zip\n",
      "Resolving download.pytorch.org (download.pytorch.org)... 205.251.219.72, 205.251.219.66, 205.251.219.114, ...\n",
      "Connecting to download.pytorch.org (download.pytorch.org)|205.251.219.72|:443... connected.\n",
      "HTTP request sent, awaiting response... 200 OK\n",
      "Length: 2882130 (2.7M) [application/zip]\n",
      "Saving to: ‘/home/ck/data.zip’\n",
      "\n",
      "/home/ck/data.zip   100%[===================>]   2.75M  4.72MB/s    in 0.6s    \n",
      "\n",
      "2018-08-20 21:45:36 (4.72 MB/s) - ‘/home/ck/data.zip’ saved [2882130/2882130]\n",
      "\n",
      "Archive:  /home/ck/data.zip\n",
      "  inflating: /home/ck/data/eng-fra.txt  \n",
      "   creating: /home/ck/data/names/\n",
      "  inflating: /home/ck/data/names/Arabic.txt  \n",
      "  inflating: /home/ck/data/names/Chinese.txt  \n",
      "  inflating: /home/ck/data/names/Czech.txt  \n",
      "  inflating: /home/ck/data/names/Dutch.txt  \n",
      "  inflating: /home/ck/data/names/English.txt  \n",
      "  inflating: /home/ck/data/names/French.txt  \n",
      "  inflating: /home/ck/data/names/German.txt  \n",
      "  inflating: /home/ck/data/names/Greek.txt  \n",
      "  inflating: /home/ck/data/names/Irish.txt  \n",
      "  inflating: /home/ck/data/names/Italian.txt  \n",
      "  inflating: /home/ck/data/names/Japanese.txt  \n",
      "  inflating: /home/ck/data/names/Korean.txt  \n",
      "  inflating: /home/ck/data/names/Polish.txt  \n",
      "  inflating: /home/ck/data/names/Portuguese.txt  \n",
      "  inflating: /home/ck/data/names/Russian.txt  \n",
      "  inflating: /home/ck/data/names/Scottish.txt  \n",
      "  inflating: /home/ck/data/names/Spanish.txt  \n",
      "  inflating: /home/ck/data/names/Vietnamese.txt  \n"
     ]
    }
   ],
   "source": [
    "# !wget https://download.pytorch.org/tutorial/data.zip -O ~/data.zip\n",
    "# !unzip ~/data.zip -d ~\n",
    "# !mkdir ~/data/names/names\n",
    "# !mv ~/data/names/*.txt ~/data/names/names\n",
    "# !mv ~/data/eng-fra.txt ~/data/names/eng-fra.txt\n",
    "# !rm ~/data.zip"
   ]
  },
  {
   "cell_type": "code",
   "execution_count": 5,
   "metadata": {},
   "outputs": [],
   "source": [
    "PATH = expanduser('~/data/names/names')"
   ]
  },
  {
   "cell_type": "code",
   "execution_count": 6,
   "metadata": {},
   "outputs": [
    {
     "name": "stdout",
     "output_type": "stream",
     "text": [
      "Arabic.txt   English.txt  Irish.txt\tPolish.txt\tSpanish.txt\r\n",
      "Chinese.txt  French.txt   Italian.txt\tPortuguese.txt\tVietnamese.txt\r\n",
      "Czech.txt    German.txt   Japanese.txt\tRussian.txt\r\n",
      "Dutch.txt    Greek.txt\t  Korean.txt\tScottish.txt\r\n"
     ]
    }
   ],
   "source": [
    "!ls $PATH"
   ]
  },
  {
   "cell_type": "code",
   "execution_count": 7,
   "metadata": {},
   "outputs": [],
   "source": [
    "import unicodedata\n",
    "import string"
   ]
  },
  {
   "cell_type": "code",
   "execution_count": 8,
   "metadata": {},
   "outputs": [],
   "source": [
    "all_letters = string.ascii_letters + \" .,;'\"\n",
    "n_letters = len(all_letters)"
   ]
  },
  {
   "cell_type": "code",
   "execution_count": 9,
   "metadata": {},
   "outputs": [],
   "source": [
    "def unicode_to_ascii(s):\n",
    "    return ''.join(\n",
    "        c for c in unicodedata.normalize('NFD', s)\n",
    "        if unicodedata.category(c) != 'Mn'\n",
    "        and c in all_letters)"
   ]
  },
  {
   "cell_type": "code",
   "execution_count": 10,
   "metadata": {},
   "outputs": [
    {
     "data": {
      "text/plain": [
       "'Slusarski'"
      ]
     },
     "execution_count": 10,
     "metadata": {},
     "output_type": "execute_result"
    }
   ],
   "source": [
    "unicode_to_ascii('Ślusàrski')"
   ]
  },
  {
   "cell_type": "code",
   "execution_count": 11,
   "metadata": {},
   "outputs": [],
   "source": [
    "def read_lines(filename):\n",
    "    lines = open(filename, encoding='utf-8').read().strip().split('\\n')\n",
    "    return [unicode_to_ascii(line) for line in lines]"
   ]
  },
  {
   "cell_type": "code",
   "execution_count": 40,
   "metadata": {
    "scrolled": false
   },
   "outputs": [
    {
     "name": "stdout",
     "output_type": "stream",
     "text": [
      "reading file /home/ck/data/names/names/Chinese.txt\n",
      "reading file /home/ck/data/names/names/English.txt\n",
      "reading file /home/ck/data/names/names/Korean.txt\n",
      "reading file /home/ck/data/names/names/Portuguese.txt\n",
      "reading file /home/ck/data/names/names/German.txt\n",
      "reading file /home/ck/data/names/names/Dutch.txt\n",
      "reading file /home/ck/data/names/names/Arabic.txt\n",
      "reading file /home/ck/data/names/names/Spanish.txt\n",
      "reading file /home/ck/data/names/names/Scottish.txt\n",
      "reading file /home/ck/data/names/names/French.txt\n",
      "reading file /home/ck/data/names/names/Italian.txt\n",
      "reading file /home/ck/data/names/names/Irish.txt\n",
      "reading file /home/ck/data/names/names/Russian.txt\n",
      "reading file /home/ck/data/names/names/Vietnamese.txt\n",
      "reading file /home/ck/data/names/names/Czech.txt\n",
      "reading file /home/ck/data/names/names/Greek.txt\n",
      "reading file /home/ck/data/names/names/Japanese.txt\n",
      "reading file /home/ck/data/names/names/Polish.txt\n"
     ]
    }
   ],
   "source": [
    "category_lines = {}\n",
    "all_categories = []\n",
    "\n",
    "for filename in glob.glob(PATH + '/*.txt'):\n",
    "    print(f'reading file {filename}')\n",
    "    category, _ = splitext(basename(filename))\n",
    "    all_categories.append(category)\n",
    "    lines = read_lines(filename)\n",
    "    category_lines[category] = lines\n",
    "    \n",
    "n_categories = len(all_categories)"
   ]
  },
  {
   "cell_type": "code",
   "execution_count": 14,
   "metadata": {},
   "outputs": [],
   "source": [
    "def letter_to_index(letter):\n",
    "    return all_letters.find(letter)"
   ]
  },
  {
   "cell_type": "code",
   "execution_count": 15,
   "metadata": {},
   "outputs": [],
   "source": [
    "def letter_to_tensor(letter):\n",
    "    tensor = torch.zeros(1, n_letters)\n",
    "    tensor[0][letter_to_index(letter)] = 1\n",
    "    return tensor"
   ]
  },
  {
   "cell_type": "code",
   "execution_count": 16,
   "metadata": {},
   "outputs": [],
   "source": [
    "def line_to_tensor(line):\n",
    "    tensor = torch.zeros(len(line), 1, n_letters)\n",
    "    for index, letter in enumerate(line):\n",
    "        tensor[index][0][letter_to_index(letter)] = 1\n",
    "    return tensor"
   ]
  },
  {
   "cell_type": "code",
   "execution_count": 17,
   "metadata": {},
   "outputs": [
    {
     "data": {
      "text/plain": [
       "tensor([[0., 0., 0., 0., 0., 0., 0., 0., 0., 0., 0., 0., 0., 0., 0., 0., 0., 0.,\n",
       "         0., 0., 0., 0., 0., 0., 0., 0., 0., 0., 0., 0., 0., 0., 0., 0., 0., 1.,\n",
       "         0., 0., 0., 0., 0., 0., 0., 0., 0., 0., 0., 0., 0., 0., 0., 0., 0., 0.,\n",
       "         0., 0., 0.]])"
      ]
     },
     "execution_count": 17,
     "metadata": {},
     "output_type": "execute_result"
    }
   ],
   "source": [
    "letter_to_tensor('J')"
   ]
  },
  {
   "cell_type": "code",
   "execution_count": 18,
   "metadata": {},
   "outputs": [
    {
     "data": {
      "text/plain": [
       "torch.Size([5, 1, 57])"
      ]
     },
     "execution_count": 18,
     "metadata": {},
     "output_type": "execute_result"
    }
   ],
   "source": [
    "line_to_tensor('Jones').size()"
   ]
  },
  {
   "cell_type": "code",
   "execution_count": 19,
   "metadata": {},
   "outputs": [],
   "source": [
    "class RNN(nn.Module):\n",
    "    \n",
    "    def __init__(self, input_size, hidden_size, output_size):\n",
    "        super().__init__()\n",
    "        self.hidden_size = hidden_size\n",
    "        self.i2h = nn.Linear(input_size + hidden_size, hidden_size)\n",
    "        self.i2o = nn.Linear(input_size + hidden_size, output_size)\n",
    "        self.softmax = nn.LogSoftmax(dim=1)\n",
    "        \n",
    "    def forward(self, i, h):\n",
    "        combined = torch.cat((i, h), 1)\n",
    "        hidden = self.i2h(combined)\n",
    "        output = self.i2o(combined)\n",
    "        output = self.softmax(output)\n",
    "        return output, hidden\n",
    "    \n",
    "    def init_hidden(self):\n",
    "        return torch.zeros(1, self.hidden_size)"
   ]
  },
  {
   "cell_type": "code",
   "execution_count": 20,
   "metadata": {},
   "outputs": [],
   "source": [
    "n_hidden = 128"
   ]
  },
  {
   "cell_type": "code",
   "execution_count": 21,
   "metadata": {},
   "outputs": [],
   "source": [
    "rnn = RNN(n_letters, n_hidden, n_categories)"
   ]
  },
  {
   "cell_type": "code",
   "execution_count": 23,
   "metadata": {},
   "outputs": [
    {
     "data": {
      "text/plain": [
       "tensor([[-2.8739, -2.9028, -2.8908, -2.8810, -2.9101, -2.8985, -2.9106, -2.9278,\n",
       "         -2.9383, -2.8299, -2.8164, -2.7802, -3.0030, -2.8686, -2.8727, -2.9259,\n",
       "         -2.9581, -2.8613]], grad_fn=<LogSoftmaxBackward>)"
      ]
     },
     "execution_count": 23,
     "metadata": {},
     "output_type": "execute_result"
    }
   ],
   "source": [
    "input_tensor = letter_to_tensor('A')\n",
    "hidden = rnn.init_hidden()\n",
    "output, next_hidden = rnn(input_tensor, hidden)\n",
    "output"
   ]
  },
  {
   "cell_type": "code",
   "execution_count": 28,
   "metadata": {},
   "outputs": [],
   "source": [
    "def top_category(output):\n",
    "    top_value, top_indices = output.topk(1)\n",
    "    category_index = top_indices[0].item()\n",
    "    return all_categories[category_index], category_index"
   ]
  },
  {
   "cell_type": "code",
   "execution_count": 29,
   "metadata": {},
   "outputs": [
    {
     "data": {
      "text/plain": [
       "('Irish', 11)"
      ]
     },
     "execution_count": 29,
     "metadata": {},
     "output_type": "execute_result"
    }
   ],
   "source": [
    "top_category(output)"
   ]
  },
  {
   "cell_type": "code",
   "execution_count": 57,
   "metadata": {},
   "outputs": [],
   "source": [
    "def random_training_example():\n",
    "    category = random.choice(all_categories)\n",
    "    line = random.choice(category_lines[category])\n",
    "    category_tensor = torch.LongTensor([all_categories.index(category)])\n",
    "    line_tensor = line_to_tensor(line)\n",
    "    return (category, line), (category_tensor, line_tensor)"
   ]
  },
  {
   "cell_type": "code",
   "execution_count": 58,
   "metadata": {},
   "outputs": [
    {
     "name": "stdout",
     "output_type": "stream",
     "text": [
      "category = English    / line = Mccall              \n",
      "category = Russian    / line = Anufrienko          \n",
      "category = Arabic     / line = Hajjar              \n",
      "category = Spanish    / line = Etxebarria          \n",
      "category = Russian    / line = Zhitin              \n",
      "category = Russian    / line = Chijik              \n",
      "category = Spanish    / line = Flores              \n",
      "category = Dutch      / line = Schoorel            \n",
      "category = Italian    / line = Mancini             \n",
      "category = Dutch      / line = Kappel              \n"
     ]
    }
   ],
   "source": [
    "for i in range(10):\n",
    "    category_and_line, _ = random_training_example()\n",
    "    print('category = %-10s / line = %-20s' % category_and_line)"
   ]
  },
  {
   "cell_type": "code",
   "execution_count": 53,
   "metadata": {},
   "outputs": [],
   "source": [
    "def train(model, category, line, lr=0.005):\n",
    "    \"\"\"\n",
    "    Trains a model for a single batch of data.\n",
    "    \"\"\"\n",
    "    hidden = model.init_hidden()\n",
    "    model.zero_grad()\n",
    "    for char in line:\n",
    "        output, hidden = model(char, hidden)\n",
    "    loss = F.nll_loss(output, category)\n",
    "    loss.backward()\n",
    "    for p in model.parameters():\n",
    "        p.data.add_(-lr, p.grad.data)\n",
    "    return output, loss.item()"
   ]
  },
  {
   "cell_type": "code",
   "execution_count": 64,
   "metadata": {},
   "outputs": [],
   "source": [
    "def time_since(since):\n",
    "    now = time.time()\n",
    "    seconds = now - since\n",
    "    minutes = math.floor(seconds / 60)\n",
    "    seconds -= minutes * 60\n",
    "    return '%dm %ds' % (minutes, seconds)"
   ]
  },
  {
   "cell_type": "code",
   "execution_count": 65,
   "metadata": {},
   "outputs": [
    {
     "name": "stdout",
     "output_type": "stream",
     "text": [
      "  5000   5% (0m 21s) 3.0799 Bobienski            / Italian    ✗ (Polish)\n",
      " 10000  10% (0m 43s) 2.6574 Bartosz              / Spanish    ✗ (Polish)\n",
      " 15000  15% (1m 5s ) 1.0940 Tieu                 / Vietnamese ✓\n",
      " 20000  20% (1m 27s) 1.5384 Zha                  / Korean     ✗ (Chinese)\n",
      " 25000  25% (1m 49s) 1.8882 Prchal               / Czech      ✓\n",
      " 30000  30% (2m 11s) 1.6869 Pokorny              / Polish     ✗ (Czech)\n",
      " 35000  35% (2m 32s) 0.3288 Millar               / Scottish   ✓\n",
      " 40000  40% (2m 54s) 3.0903 Rhys                 / Korean     ✗ (English)\n",
      " 45000  45% (3m 16s) 1.9176 Zoucha               / Japanese   ✗ (Czech)\n",
      " 50000  50% (3m 37s) 0.0660 Williamson           / Scottish   ✓\n",
      " 55000  55% (3m 56s) 1.2809 D'onofrio            / Spanish    ✗ (Italian)\n",
      " 60000  60% (4m 15s) 0.7574 Graner               / German     ✓\n",
      " 65000  65% (4m 34s) 0.7957 Kido                 / Japanese   ✓\n",
      " 70000  70% (4m 52s) 0.4594 So                   / Korean     ✓\n",
      " 75000  75% (5m 11s) 1.6404 Bisset               / Dutch      ✗ (French)\n",
      " 80000  80% (5m 30s) 0.9721 Chun                 / Korean     ✓\n",
      " 85000  85% (5m 49s) 0.3249 Schirmer             / German     ✓\n",
      " 90000  90% (6m 8s ) 5.1835 Cernohous            / Irish      ✗ (Czech)\n",
      " 95000  95% (6m 27s) 0.3562 Machado              / Portuguese ✓\n",
      "100000 100% (6m 45s) 0.0420 Bertolini            / Italian    ✓\n"
     ]
    }
   ],
   "source": [
    "n_hidden = 128\n",
    "rnn = RNN(n_letters, n_hidden, n_categories)\n",
    "\n",
    "n_epochs = 100000\n",
    "print_every = 5000\n",
    "plot_every = 1000\n",
    "\n",
    "current_loss = 0\n",
    "history = []\n",
    "\n",
    "start = time.time()\n",
    "\n",
    "for epoch in range(1, n_epochs + 1):\n",
    "    (category, line), (t_category, t_line) = random_training_example()\n",
    "    output, loss = train(rnn, t_category, t_line)\n",
    "    current_loss += loss\n",
    "    \n",
    "    if epoch % print_every == 0:\n",
    "        guess, index = top_category(output)\n",
    "        correct = '✓' if guess == category else '✗ (%s)' % category\n",
    "        stats = epoch, epoch/n_epochs*100, time_since(start), loss, line, guess, correct\n",
    "        print('%6d %3d%% (%-6s) %.4f %-20s / %-10s %s' % stats)\n",
    "    \n",
    "    if epoch % plot_every == 0:\n",
    "        history.append(current_loss / plot_every)\n",
    "        current_loss = 0"
   ]
  },
  {
   "cell_type": "code",
   "execution_count": 77,
   "metadata": {},
   "outputs": [
    {
     "name": "stderr",
     "output_type": "stream",
     "text": [
      "/home/ck/anaconda3/envs/fastai/lib/python3.6/site-packages/torch/serialization.py:241: UserWarning: Couldn't retrieve source code for container of type RNN. It won't be checked for correctness upon loading.\n",
      "  \"type \" + obj.__name__ + \". It won't be checked \"\n"
     ]
    }
   ],
   "source": [
    "torch.save(rnn, 'rnn.model')"
   ]
  },
  {
   "cell_type": "code",
   "execution_count": 78,
   "metadata": {},
   "outputs": [],
   "source": [
    "rnn = torch.load('rnn.model')"
   ]
  },
  {
   "cell_type": "code",
   "execution_count": 79,
   "metadata": {},
   "outputs": [
    {
     "data": {
      "text/plain": [
       "[<matplotlib.lines.Line2D at 0x7f8e040a4f28>]"
      ]
     },
     "execution_count": 79,
     "metadata": {},
     "output_type": "execute_result"
    },
    {
     "data": {
      "image/png": "[encoded data removed]",
      "text/plain": [
       "<matplotlib.figure.Figure at 0x7f8e04055a58>"
      ]
     },
     "metadata": {},
     "output_type": "display_data"
    }
   ],
   "source": [
    "plt.figure()\n",
    "plt.plot(history)"
   ]
  },
  {
   "cell_type": "code",
   "execution_count": 69,
   "metadata": {},
   "outputs": [],
   "source": [
    "def evaluate(model, line):\n",
    "    hidden = model.init_hidden()\n",
    "    for char in line:\n",
    "        output, hidden = rnn(char, hidden)\n",
    "    return output"
   ]
  },
  {
   "cell_type": "code",
   "execution_count": 75,
   "metadata": {},
   "outputs": [
    {
     "data": {
      "image/png": "[encoded data removed]",
      "text/plain": [
       "<matplotlib.figure.Figure at 0x7f8e17bdaf98>"
      ]
     },
     "metadata": {},
     "output_type": "display_data"
    }
   ],
   "source": [
    "confusion = torch.zeros(n_categories, n_categories)\n",
    "n_confusion = 10000\n",
    "\n",
    "for i in range(n_confusion):\n",
    "    (category, _), (_, t_line) = random_training_example()\n",
    "    output = evaluate(rnn, t_line)\n",
    "    guess, guess_i = top_category(output)\n",
    "    category_i = all_categories.index(category)\n",
    "    confusion[category_i][guess_i] += 1\n",
    "\n",
    "for i in range(n_categories):\n",
    "    confusion[i] = confusion[i] / confusion[i].sum()\n",
    "\n",
    "fig = plt.figure(figsize=(12, 12))\n",
    "ax = fig.add_subplot(111)\n",
    "cax = ax.matshow(confusion.numpy())\n",
    "fig.colorbar(cax)\n",
    "\n",
    "ax.set_xticklabels([''] + all_categories, rotation=90, fontsize=15)\n",
    "ax.set_yticklabels([''] + all_categories, fontsize=15)\n",
    "\n",
    "ax.xaxis.set_major_locator(ticker.MultipleLocator(1))\n",
    "ax.yaxis.set_major_locator(ticker.MultipleLocator(1))\n",
    "\n",
    "plt.show()"
   ]
  },
  {
   "cell_type": "code",
   "execution_count": 83,
   "metadata": {},
   "outputs": [],
   "source": [
    "def predict(model, line, top_k=3):\n",
    "    print('\\n> %s' % line)\n",
    "    with torch.no_grad():\n",
    "        output = evaluate(model, line_to_tensor(line))\n",
    "        top_value, top_index = output.topk(top_k, 1, True)\n",
    "        predictions = []\n",
    "        for i in range(top_k):\n",
    "            value = top_value[0][i].item()\n",
    "            category_index = top_index[0][i].item()\n",
    "            print('(%.2f) %s' % (value, all_categories[category_index]))\n",
    "            predictions.append([value, all_categories[category_index]])"
   ]
  },
  {
   "cell_type": "code",
   "execution_count": 84,
   "metadata": {},
   "outputs": [
    {
     "name": "stdout",
     "output_type": "stream",
     "text": [
      "\n",
      "> Dovesky\n",
      "(-0.91) Czech\n",
      "(-1.12) Russian\n",
      "(-2.05) Polish\n",
      "\n",
      "> Jackson\n",
      "(-0.17) Scottish\n",
      "(-2.41) English\n",
      "(-3.15) Russian\n",
      "\n",
      "> Satoshi\n",
      "(-0.56) Italian\n",
      "(-1.59) Japanese\n",
      "(-2.80) Polish\n"
     ]
    }
   ],
   "source": [
    "predict(rnn, 'Dovesky')\n",
    "predict(rnn, 'Jackson')\n",
    "predict(rnn, 'Satoshi')"
   ]
  },
  {
   "cell_type": "markdown",
   "metadata": {},
   "source": [
    "# Generating Names with a Character-Level RNN"
   ]
  },
  {
   "cell_type": "markdown",
   "metadata": {},
   "source": [
    "https://pytorch.org/tutorials/intermediate/char_rnn_generation_tutorial.html"
   ]
  },
  {
   "cell_type": "code",
   "execution_count": 85,
   "metadata": {},
   "outputs": [],
   "source": [
    "class RNN(nn.Module):\n",
    "    \n",
    "    def __init__(self, input_size, hidden_size, output_size):\n",
    "        super().__init__()\n",
    "        self.hidden_size = hidden_size\n",
    "        self.i2h = nn.Linear(n_categories + input_size + hidden_size, hidden_size)\n",
    "        self.i2o = nn.Linear(n_categories + input_size + hidden_size, output_size)\n",
    "        self.o2o = nn.Linear(hidden_size + output_size, output_size)\n",
    "        self.dropout = nn.Dropout(0.1)\n",
    "        self.softmax = nn.LogSoftmax(dim=1)\n",
    "        \n",
    "    def forward(self, category, i, h):\n",
    "        concat = torch.cat((category, i, h), 1)\n",
    "        hidden = self.i2h(concat)\n",
    "        output = self.i2o(concat)\n",
    "        output_concat = torch.cat((hidden, output), 1)\n",
    "        output = self.o2o(output_concat)\n",
    "        output = self.dropout(output)\n",
    "        output = self.softmax(output)\n",
    "        return output, hidden\n",
    "    \n",
    "    def init_hidden(self):\n",
    "        return torch.zeros(1, self.hidden_size)"
   ]
  },
  {
   "cell_type": "code",
   "execution_count": 86,
   "metadata": {},
   "outputs": [],
   "source": [
    "def random_training_pair():\n",
    "    category = random.choice(all_categories)\n",
    "    line = random.choice(category_lines[category])\n",
    "    return category, line"
   ]
  },
  {
   "cell_type": "code",
   "execution_count": 90,
   "metadata": {},
   "outputs": [],
   "source": [
    "def category_tensor(category):\n",
    "    index = all_categories.index(category)\n",
    "    one_hot = [0] * n_categories\n",
    "    one_hot[index] = 1\n",
    "    return torch.LongTensor(one_hot).view(1, n_categories)"
   ]
  },
  {
   "cell_type": "code",
   "execution_count": 96,
   "metadata": {},
   "outputs": [],
   "source": [
    "def input_tensor(line):\n",
    "    tensor = torch.zeros(len(line), n_letters)\n",
    "    for i, letter in enumerate(line):\n",
    "        index = all_letters.index(letter)\n",
    "        tensor[i][index] = 1\n",
    "    return tensor.view(-1, 1, n_letters)"
   ]
  },
  {
   "cell_type": "code",
   "execution_count": 104,
   "metadata": {},
   "outputs": [],
   "source": [
    "def target_tensor(line):\n",
    "    letter_indexes = [all_letters.index(letter) for letter in line]\n",
    "    letter_indexes.append(n_letters - 1)\n",
    "    return torch.LongTensor(letter_indexes)"
   ]
  },
  {
   "cell_type": "code",
   "execution_count": 111,
   "metadata": {},
   "outputs": [],
   "source": [
    "def random_training_example():\n",
    "    category, line = random_training_pair()\n",
    "    t_category = category_tensor(category)\n",
    "    t_input = input_tensor(line)\n",
    "    t_target = target_tensor(line)\n",
    "    return t_category, t_input, t_target"
   ]
  },
  {
   "cell_type": "code",
   "execution_count": null,
   "metadata": {},
   "outputs": [],
   "source": []
  }
 ],
 "metadata": {
  "kernelspec": {
   "display_name": "Python 3",
   "language": "python",
   "name": "python3"
  },
  "language_info": {
   "codemirror_mode": {
    "name": "ipython",
    "version": 3
   },
   "file_extension": ".py",
   "mimetype": "text/x-python",
   "name": "python",
   "nbconvert_exporter": "python",
   "pygments_lexer": "ipython3",
   "version": "3.6.4"
  }
 },
 "nbformat": 4,
 "nbformat_minor": 2
}
