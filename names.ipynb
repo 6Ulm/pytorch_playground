{
 "cells": [
  {
   "cell_type": "code",
   "execution_count": 1,
   "metadata": {},
   "outputs": [],
   "source": [
    "%matplotlib inline"
   ]
  },
  {
   "cell_type": "code",
   "execution_count": 2,
   "metadata": {},
   "outputs": [],
   "source": [
    "import glob\n",
    "from os.path import expanduser, basename, splitext"
   ]
  },
  {
   "cell_type": "code",
   "execution_count": 3,
   "metadata": {},
   "outputs": [],
   "source": [
    "import torch\n",
    "import torch.nn as nn\n",
    "import torch.optim as optim\n",
    "import torch.nn.functional as F"
   ]
  },
  {
   "cell_type": "code",
   "execution_count": 4,
   "metadata": {},
   "outputs": [
    {
     "data": {
      "text/plain": [
       "<torch._C.Generator at 0x7fa9869f1970>"
      ]
     },
     "execution_count": 4,
     "metadata": {},
     "output_type": "execute_result"
    }
   ],
   "source": [
    "torch.manual_seed(1)"
   ]
  },
  {
   "cell_type": "code",
   "execution_count": 6,
   "metadata": {},
   "outputs": [
    {
     "name": "stdout",
     "output_type": "stream",
     "text": [
      "--2018-08-20 21:45:35--  https://download.pytorch.org/tutorial/data.zip\n",
      "Resolving download.pytorch.org (download.pytorch.org)... 205.251.219.72, 205.251.219.66, 205.251.219.114, ...\n",
      "Connecting to download.pytorch.org (download.pytorch.org)|205.251.219.72|:443... connected.\n",
      "HTTP request sent, awaiting response... 200 OK\n",
      "Length: 2882130 (2.7M) [application/zip]\n",
      "Saving to: ‘/home/ck/data.zip’\n",
      "\n",
      "/home/ck/data.zip   100%[===================>]   2.75M  4.72MB/s    in 0.6s    \n",
      "\n",
      "2018-08-20 21:45:36 (4.72 MB/s) - ‘/home/ck/data.zip’ saved [2882130/2882130]\n",
      "\n",
      "Archive:  /home/ck/data.zip\n",
      "  inflating: /home/ck/data/eng-fra.txt  \n",
      "   creating: /home/ck/data/names/\n",
      "  inflating: /home/ck/data/names/Arabic.txt  \n",
      "  inflating: /home/ck/data/names/Chinese.txt  \n",
      "  inflating: /home/ck/data/names/Czech.txt  \n",
      "  inflating: /home/ck/data/names/Dutch.txt  \n",
      "  inflating: /home/ck/data/names/English.txt  \n",
      "  inflating: /home/ck/data/names/French.txt  \n",
      "  inflating: /home/ck/data/names/German.txt  \n",
      "  inflating: /home/ck/data/names/Greek.txt  \n",
      "  inflating: /home/ck/data/names/Irish.txt  \n",
      "  inflating: /home/ck/data/names/Italian.txt  \n",
      "  inflating: /home/ck/data/names/Japanese.txt  \n",
      "  inflating: /home/ck/data/names/Korean.txt  \n",
      "  inflating: /home/ck/data/names/Polish.txt  \n",
      "  inflating: /home/ck/data/names/Portuguese.txt  \n",
      "  inflating: /home/ck/data/names/Russian.txt  \n",
      "  inflating: /home/ck/data/names/Scottish.txt  \n",
      "  inflating: /home/ck/data/names/Spanish.txt  \n",
      "  inflating: /home/ck/data/names/Vietnamese.txt  \n"
     ]
    }
   ],
   "source": [
    "!wget https://download.pytorch.org/tutorial/data.zip -O ~/data.zip\n",
    "!unzip ~/data.zip -d ~\n",
    "!mkdir ~/data/names/names\n",
    "!mv ~/data/names/*.txt ~/data/names/names\n",
    "!mv ~/data/eng-fra.txt ~/data/names/eng-fra.txt\n",
    "!rm ~/data.zip"
   ]
  },
  {
   "cell_type": "code",
   "execution_count": 7,
   "metadata": {},
   "outputs": [],
   "source": [
    "PATH = expanduser('~/data/names/names')"
   ]
  },
  {
   "cell_type": "code",
   "execution_count": 8,
   "metadata": {},
   "outputs": [
    {
     "name": "stdout",
     "output_type": "stream",
     "text": [
      "Arabic.txt   English.txt  Irish.txt\tPolish.txt\tSpanish.txt\r\n",
      "Chinese.txt  French.txt   Italian.txt\tPortuguese.txt\tVietnamese.txt\r\n",
      "Czech.txt    German.txt   Japanese.txt\tRussian.txt\r\n",
      "Dutch.txt    Greek.txt\t  Korean.txt\tScottish.txt\r\n"
     ]
    }
   ],
   "source": [
    "!ls $PATH"
   ]
  },
  {
   "cell_type": "code",
   "execution_count": 9,
   "metadata": {},
   "outputs": [],
   "source": [
    "import unicodedata\n",
    "import string"
   ]
  },
  {
   "cell_type": "code",
   "execution_count": 26,
   "metadata": {},
   "outputs": [],
   "source": [
    "all_letters = string.ascii_letters + \" .,;'\"\n",
    "n_letters = len(all_letters)"
   ]
  },
  {
   "cell_type": "code",
   "execution_count": 27,
   "metadata": {},
   "outputs": [],
   "source": [
    "def unicode_to_ascii(s):\n",
    "    return ''.join(\n",
    "        c for c in unicodedata.normalize('NFD', s)\n",
    "        if unicodedata.category(c) != 'Mn'\n",
    "        and c in all_letters)"
   ]
  },
  {
   "cell_type": "code",
   "execution_count": 28,
   "metadata": {},
   "outputs": [
    {
     "data": {
      "text/plain": [
       "'Slusarski'"
      ]
     },
     "execution_count": 28,
     "metadata": {},
     "output_type": "execute_result"
    }
   ],
   "source": [
    "unicode_to_ascii('Ślusàrski')"
   ]
  },
  {
   "cell_type": "code",
   "execution_count": 29,
   "metadata": {},
   "outputs": [],
   "source": [
    "def read_lines(filename):\n",
    "    lines = open(filename, encoding='utf-8').read().strip().split('\\n')\n",
    "    return [unicode_to_ascii(line) for line in lines]"
   ]
  },
  {
   "cell_type": "code",
   "execution_count": 30,
   "metadata": {},
   "outputs": [
    {
     "name": "stdout",
     "output_type": "stream",
     "text": [
      "reading file /home/ck/data/names/names/Chinese.txt\n",
      "reading file /home/ck/data/names/names/English.txt\n",
      "reading file /home/ck/data/names/names/Korean.txt\n",
      "reading file /home/ck/data/names/names/Portuguese.txt\n",
      "reading file /home/ck/data/names/names/German.txt\n",
      "reading file /home/ck/data/names/names/Dutch.txt\n",
      "reading file /home/ck/data/names/names/Arabic.txt\n",
      "reading file /home/ck/data/names/names/Spanish.txt\n",
      "reading file /home/ck/data/names/names/Scottish.txt\n",
      "reading file /home/ck/data/names/names/French.txt\n",
      "reading file /home/ck/data/names/names/Italian.txt\n",
      "reading file /home/ck/data/names/names/Irish.txt\n",
      "reading file /home/ck/data/names/names/Russian.txt\n",
      "reading file /home/ck/data/names/names/Vietnamese.txt\n",
      "reading file /home/ck/data/names/names/Czech.txt\n",
      "reading file /home/ck/data/names/names/Greek.txt\n",
      "reading file /home/ck/data/names/names/Japanese.txt\n",
      "reading file /home/ck/data/names/names/Polish.txt\n"
     ]
    }
   ],
   "source": [
    "category_files = {}\n",
    "all_categories = []\n",
    "\n",
    "for filename in glob.glob(PATH + '/*.txt'):\n",
    "    print(f'reading file {filename}')\n",
    "    category, _ = splitext(basename(filename))\n",
    "    all_categories.append(category)\n",
    "    lines = read_lines(filename)\n",
    "    category_files[category] = lines\n",
    "    \n",
    "n_categories = len(all_categories)"
   ]
  },
  {
   "cell_type": "code",
   "execution_count": 31,
   "metadata": {},
   "outputs": [],
   "source": [
    "def letter_to_index(letter):\n",
    "    return all_letters.find(letter)"
   ]
  },
  {
   "cell_type": "code",
   "execution_count": 32,
   "metadata": {},
   "outputs": [],
   "source": [
    "def letter_to_tensor(letter):\n",
    "    tensor = torch.zeros(1, n_letters)\n",
    "    tensor[0][letter_to_index(letter)] = 1\n",
    "    return tensor"
   ]
  },
  {
   "cell_type": "code",
   "execution_count": 33,
   "metadata": {},
   "outputs": [],
   "source": [
    "def line_to_tensor(line):\n",
    "    tensor = torch.zeros(len(line), 1, n_letters)\n",
    "    for index, letter in enumerate(line):\n",
    "        tensor[index][0][letter_to_index(letter)] = 1\n",
    "    return tensor"
   ]
  },
  {
   "cell_type": "code",
   "execution_count": 34,
   "metadata": {},
   "outputs": [
    {
     "data": {
      "text/plain": [
       "tensor([[0., 0., 0., 0., 0., 0., 0., 0., 0., 0., 0., 0., 0., 0., 0., 0., 0., 0.,\n",
       "         0., 0., 0., 0., 0., 0., 0., 0., 0., 0., 0., 0., 0., 0., 0., 0., 0., 1.,\n",
       "         0., 0., 0., 0., 0., 0., 0., 0., 0., 0., 0., 0., 0., 0., 0., 0., 0., 0.,\n",
       "         0., 0., 0.]])"
      ]
     },
     "execution_count": 34,
     "metadata": {},
     "output_type": "execute_result"
    }
   ],
   "source": [
    "letter_to_tensor('J')"
   ]
  },
  {
   "cell_type": "code",
   "execution_count": 35,
   "metadata": {},
   "outputs": [
    {
     "data": {
      "text/plain": [
       "torch.Size([5, 1, 57])"
      ]
     },
     "execution_count": 35,
     "metadata": {},
     "output_type": "execute_result"
    }
   ],
   "source": [
    "line_to_tensor('Jones').size()"
   ]
  },
  {
   "cell_type": "code",
   "execution_count": 36,
   "metadata": {},
   "outputs": [],
   "source": [
    "class RNN(nn.Module):\n",
    "    \n",
    "    def __init__(self, input_size, hidden_size, output_size):\n",
    "        super().__init__()\n",
    "        self.hidden_size = hidden_size\n",
    "        self.i2h = nn.Linear(input_size + hidden_size, hidden_size)\n",
    "        self.i2o = nn.Linear(input_size + hidden_size, output_size)\n",
    "        self.softmax = nn.LogSoftmax(dim=1)\n",
    "        \n",
    "    def forward(self, i, h):\n",
    "        combined = torch.cat((i, h), 1)\n",
    "        hidden = self.i2h(combined)\n",
    "        output = self.i2o(combined)\n",
    "        output = self.softmax(output)\n",
    "        return output, hidden\n",
    "    \n",
    "    def init_hidden(self):\n",
    "        return torch.zeros(1, self.hidden_size)"
   ]
  },
  {
   "cell_type": "code",
   "execution_count": 37,
   "metadata": {},
   "outputs": [],
   "source": [
    "n_hidden = 128"
   ]
  },
  {
   "cell_type": "code",
   "execution_count": 38,
   "metadata": {},
   "outputs": [],
   "source": [
    "rnn = RNN(n_letters, n_hidden, n_categories)"
   ]
  },
  {
   "cell_type": "code",
   "execution_count": null,
   "metadata": {},
   "outputs": [],
   "source": [
    "input_tensor = letter_to_tensor('A')\n",
    "hidden = rnn.init_hidden()\n",
    "output, next_hidden = rnn(input_tensor, hidden)"
   ]
  }
 ],
 "metadata": {
  "kernelspec": {
   "display_name": "Python 3",
   "language": "python",
   "name": "python3"
  },
  "language_info": {
   "codemirror_mode": {
    "name": "ipython",
    "version": 3
   },
   "file_extension": ".py",
   "mimetype": "text/x-python",
   "name": "python",
   "nbconvert_exporter": "python",
   "pygments_lexer": "ipython3",
   "version": "3.6.4"
  }
 },
 "nbformat": 4,
 "nbformat_minor": 2
}
