{
 "cells": [
  {
   "cell_type": "code",
   "execution_count": 138,
   "metadata": {},
   "outputs": [],
   "source": [
    "%matplotlib inline"
   ]
  },
  {
   "cell_type": "code",
   "execution_count": 137,
   "metadata": {},
   "outputs": [],
   "source": [
    "import math\n",
    "import random\n",
    "from itertools import islice\n",
    "\n",
    "import numpy as np\n",
    "import matplotlib.pyplot as plt\n",
    "\n",
    "import torch\n",
    "from torch import nn\n",
    "from torch import optim\n",
    "from torch.nn import functional as F"
   ]
  },
  {
   "cell_type": "code",
   "execution_count": 2,
   "metadata": {},
   "outputs": [
    {
     "data": {
      "text/plain": [
       "<torch._C.Generator at 0x7f00364f1d70>"
      ]
     },
     "execution_count": 2,
     "metadata": {},
     "output_type": "execute_result"
    }
   ],
   "source": [
    "torch.manual_seed(1)"
   ]
  },
  {
   "cell_type": "code",
   "execution_count": 3,
   "metadata": {},
   "outputs": [],
   "source": [
    "def split(examples):\n",
    "    return [(s.split(), l) for s, l in examples]"
   ]
  },
  {
   "cell_type": "code",
   "execution_count": 4,
   "metadata": {},
   "outputs": [],
   "source": [
    "data = split([\n",
    "    ('me gusta comer en la cafeteria', 'SPANISH'),\n",
    "    ('Give it to me', 'ENGLISH'),\n",
    "    ('No creo que sea una buena idea', 'SPANISH'),\n",
    "    ('No it is not a good idea to get lost at sea', 'ENGLISH')\n",
    "])"
   ]
  },
  {
   "cell_type": "code",
   "execution_count": 5,
   "metadata": {},
   "outputs": [],
   "source": [
    "test_data = split([\n",
    "    ('Yo creo que si', 'SPANISH'),\n",
    "    ('it is lost on me', 'ENGLISH')\n",
    "])"
   ]
  },
  {
   "cell_type": "code",
   "execution_count": 6,
   "metadata": {},
   "outputs": [
    {
     "name": "stdout",
     "output_type": "stream",
     "text": [
      "{'me': 0, 'gusta': 1, 'comer': 2, 'en': 3, 'la': 4, 'cafeteria': 5, 'Give': 6, 'it': 7, 'to': 8, 'No': 9, 'creo': 10, 'que': 11, 'sea': 12, 'una': 13, 'buena': 14, 'idea': 15, 'is': 16, 'not': 17, 'a': 18, 'good': 19, 'get': 20, 'lost': 21, 'at': 22, 'Yo': 23, 'si': 24, 'on': 25}\n"
     ]
    }
   ],
   "source": [
    "word_to_index = {}\n",
    "for sentence, _ in data + test_data:\n",
    "    for word in sentence:\n",
    "        if word not in word_to_index:\n",
    "            word_to_index[word] = len(word_to_index)\n",
    "print(word_to_index)"
   ]
  },
  {
   "cell_type": "code",
   "execution_count": 7,
   "metadata": {},
   "outputs": [],
   "source": [
    "label_to_index = {'SPANISH': 0, 'ENGLISH': 1}"
   ]
  },
  {
   "cell_type": "code",
   "execution_count": 8,
   "metadata": {},
   "outputs": [],
   "source": [
    "VOCAB_SIZE = len(word_to_index)\n",
    "NUM_LABELS = 2"
   ]
  },
  {
   "cell_type": "code",
   "execution_count": 9,
   "metadata": {},
   "outputs": [],
   "source": [
    "class BoWClassifier(nn.Module):\n",
    "    \n",
    "    def __init__(self, num_labels, vocab_size):\n",
    "        super().__init__()\n",
    "        self.linear = nn.Linear(vocab_size, num_labels)\n",
    "        \n",
    "    def forward(self, bow_vec):\n",
    "        return F.log_softmax(self.linear(bow_vec), dim=1)"
   ]
  },
  {
   "cell_type": "code",
   "execution_count": 10,
   "metadata": {},
   "outputs": [],
   "source": [
    "def make_bow_vector(sentence, word_to_index):\n",
    "    vec = torch.zeros(len(word_to_index))\n",
    "    for word in sentence:\n",
    "        vec[word_to_index[word]] += 1\n",
    "    return vec.view(1, -1)"
   ]
  },
  {
   "cell_type": "code",
   "execution_count": 11,
   "metadata": {},
   "outputs": [],
   "source": [
    "def make_target(label, label_to_index):\n",
    "    return torch.LongTensor([label_to_index[label]])"
   ]
  },
  {
   "cell_type": "code",
   "execution_count": 12,
   "metadata": {},
   "outputs": [
    {
     "data": {
      "text/plain": [
       "torch.Size([1, 26])"
      ]
     },
     "execution_count": 12,
     "metadata": {},
     "output_type": "execute_result"
    }
   ],
   "source": [
    "v = make_bow_vector('not a good sea'.split(), word_to_index)\n",
    "v.shape"
   ]
  },
  {
   "cell_type": "code",
   "execution_count": 13,
   "metadata": {},
   "outputs": [],
   "source": [
    "model = BoWClassifier(NUM_LABELS, VOCAB_SIZE)"
   ]
  },
  {
   "cell_type": "code",
   "execution_count": 14,
   "metadata": {},
   "outputs": [],
   "source": [
    "def test(model, dataset):\n",
    "    with torch.no_grad():\n",
    "        for instance, label in dataset:\n",
    "            bow_vec = make_bow_vector(instance, word_to_index)\n",
    "            log_probs = model(bow_vec)\n",
    "            print(instance, log_probs)"
   ]
  },
  {
   "cell_type": "code",
   "execution_count": 15,
   "metadata": {},
   "outputs": [
    {
     "name": "stdout",
     "output_type": "stream",
     "text": [
      "['Yo', 'creo', 'que', 'si'] tensor([[-0.6250, -0.7662]])\n",
      "['it', 'is', 'lost', 'on', 'me'] tensor([[-0.5870, -0.8119]])\n"
     ]
    }
   ],
   "source": [
    "test(model, test_data)"
   ]
  },
  {
   "cell_type": "code",
   "execution_count": 16,
   "metadata": {},
   "outputs": [
    {
     "name": "stdout",
     "output_type": "stream",
     "text": [
      "Epoch: 020 - loss: 0.1962\n",
      "Epoch: 040 - loss: 0.0954\n",
      "Epoch: 060 - loss: 0.0629\n",
      "Epoch: 080 - loss: 0.0469\n",
      "Epoch: 100 - loss: 0.0374\n"
     ]
    }
   ],
   "source": [
    "loss_function = nn.NLLLoss()\n",
    "optimizer = optim.SGD(model.parameters(), lr=0.1)\n",
    "\n",
    "for epoch in range(100):\n",
    "    epoch_loss = 0\n",
    "    \n",
    "    for instance, label in data:\n",
    "        model.zero_grad()\n",
    "        bow_vec = make_bow_vector(instance, word_to_index)\n",
    "        target = make_target(label, label_to_index)\n",
    "        log_probs = model(bow_vec)\n",
    "        loss = loss_function(log_probs, target)\n",
    "        loss.backward()\n",
    "        optimizer.step()\n",
    "        epoch_loss += loss.item()\n",
    "    \n",
    "    if epoch % 20 == 19:\n",
    "        print('Epoch: %03d - loss: %2.4f' % (epoch + 1, epoch_loss))"
   ]
  },
  {
   "cell_type": "code",
   "execution_count": 17,
   "metadata": {},
   "outputs": [
    {
     "name": "stdout",
     "output_type": "stream",
     "text": [
      "['Yo', 'creo', 'que', 'si'] tensor([[-0.1210, -2.1721]])\n",
      "['it', 'is', 'lost', 'on', 'me'] tensor([[-2.7767, -0.0643]])\n"
     ]
    }
   ],
   "source": [
    "test(model, test_data)"
   ]
  },
  {
   "cell_type": "markdown",
   "metadata": {},
   "source": [
    "## Word Embeddings: Encoding Lexical Semantics"
   ]
  },
  {
   "cell_type": "code",
   "execution_count": 18,
   "metadata": {},
   "outputs": [],
   "source": [
    "import torch\n",
    "from torch import nn\n",
    "from torch import optim\n",
    "from torch.nn import functional as F"
   ]
  },
  {
   "cell_type": "code",
   "execution_count": 19,
   "metadata": {},
   "outputs": [
    {
     "data": {
      "text/plain": [
       "<torch._C.Generator at 0x7f00364f1d70>"
      ]
     },
     "execution_count": 19,
     "metadata": {},
     "output_type": "execute_result"
    }
   ],
   "source": [
    "torch.manual_seed(1)"
   ]
  },
  {
   "cell_type": "code",
   "execution_count": 20,
   "metadata": {},
   "outputs": [],
   "source": [
    "CONTEXT_SIZE = 2\n",
    "EMBEDDING_DIM = 10"
   ]
  },
  {
   "cell_type": "code",
   "execution_count": 21,
   "metadata": {},
   "outputs": [],
   "source": [
    "test_sentence = \"\"\"When forty winters shall besiege thy brow,\n",
    "And dig deep trenches in thy beauty's field,\n",
    "Thy youth's proud livery so gazed on now,\n",
    "Will be a totter'd weed of small worth held:\n",
    "Then being asked, where all thy beauty lies,\n",
    "Where all the treasure of thy lusty days;\n",
    "To say, within thine own deep sunken eyes,\n",
    "Were an all-eating shame, and thriftless praise.\n",
    "How much more praise deserv'd thy beauty's use,\n",
    "If thou couldst answer 'This fair child of mine\n",
    "Shall sum my count, and make my old excuse,'\n",
    "Proving his beauty by succession thine!\n",
    "This were to be new made when thou art old,\n",
    "And see thy blood warm when thou feel'st it cold.\"\"\".split()"
   ]
  },
  {
   "cell_type": "code",
   "execution_count": 22,
   "metadata": {},
   "outputs": [],
   "source": [
    "trigrams = [\n",
    "    ([test_sentence[i], test_sentence[i + 1]], test_sentence[i + 2])\n",
    "     for i in range(len(test_sentence) - 2)]"
   ]
  },
  {
   "cell_type": "code",
   "execution_count": 23,
   "metadata": {},
   "outputs": [
    {
     "name": "stdout",
     "output_type": "stream",
     "text": [
      "[(['When', 'forty'], 'winters'), (['forty', 'winters'], 'shall'), (['winters', 'shall'], 'besiege')]\n"
     ]
    }
   ],
   "source": [
    "print(trigrams[:3])"
   ]
  },
  {
   "cell_type": "code",
   "execution_count": 24,
   "metadata": {},
   "outputs": [],
   "source": [
    "vocab = set(test_sentence)\n",
    "word_to_index = {word: i for i, word in enumerate(vocab)}"
   ]
  },
  {
   "cell_type": "code",
   "execution_count": 25,
   "metadata": {},
   "outputs": [],
   "source": [
    "class NGramLanguageModeler(nn.Module):\n",
    "    \n",
    "    def __init__(self, vocab_size, embedding_dim, context_size):\n",
    "        super().__init__()\n",
    "        self.embeddings = nn.Embedding(vocab_size, embedding_dim)\n",
    "        self.linear1 = nn.Linear(context_size * embedding_dim, 128)\n",
    "        self.linear2 = nn.Linear(128, vocab_size)\n",
    "        \n",
    "    def forward(self, inputs):\n",
    "        embeds = self.embeddings(inputs).view((1, -1))\n",
    "        hid = F.relu(self.linear1(embeds))\n",
    "        out = self.linear2(hid)\n",
    "        log_probs = F.log_softmax(out, dim=1)\n",
    "        return log_probs"
   ]
  },
  {
   "cell_type": "code",
   "execution_count": 26,
   "metadata": {},
   "outputs": [
    {
     "name": "stdout",
     "output_type": "stream",
     "text": [
      "Epoch 001 loss: 523.4871\n",
      "Epoch 002 loss: 521.0430\n",
      "Epoch 003 loss: 518.6119\n",
      "Epoch 004 loss: 516.1947\n",
      "Epoch 005 loss: 513.7917\n",
      "Epoch 006 loss: 511.4015\n",
      "Epoch 007 loss: 509.0222\n",
      "Epoch 008 loss: 506.6536\n",
      "Epoch 009 loss: 504.2950\n",
      "Epoch 010 loss: 501.9466\n"
     ]
    }
   ],
   "source": [
    "loss_function = nn.NLLLoss()\n",
    "model = NGramLanguageModeler(len(vocab), EMBEDDING_DIM, CONTEXT_SIZE)\n",
    "optimizer = optim.SGD(model.parameters(), lr=0.001)\n",
    "\n",
    "for epoch in range(10):\n",
    "    total_loss = 0\n",
    "    \n",
    "    for context, target in trigrams:\n",
    "        context_idxs = torch.tensor([\n",
    "            word_to_index[w] for w in context], \n",
    "            dtype=torch.long)\n",
    "        \n",
    "        target = torch.tensor(\n",
    "            [word_to_index[target]], \n",
    "            dtype=torch.long)\n",
    "        \n",
    "        model.zero_grad()\n",
    "        log_probs = model(context_idxs)\n",
    "        loss = loss_function(log_probs, target)\n",
    "        loss.backward()\n",
    "        optimizer.step()\n",
    "        \n",
    "        total_loss += loss.item()\n",
    "        \n",
    "    print('Epoch %03d loss: %2.4f' % (epoch + 1, total_loss))"
   ]
  },
  {
   "cell_type": "markdown",
   "metadata": {},
   "source": [
    "## Exercise: Continuous Bag-of-Words"
   ]
  },
  {
   "cell_type": "code",
   "execution_count": 27,
   "metadata": {},
   "outputs": [],
   "source": [
    "CONTEXT_SIZE = 2"
   ]
  },
  {
   "cell_type": "code",
   "execution_count": 28,
   "metadata": {},
   "outputs": [],
   "source": [
    "raw_text = \"\"\"We are about to study the idea of a computational process.\n",
    "Computational processes are abstract beings that inhabit computers.\n",
    "As they evolve, processes manipulate other abstract things called data.\n",
    "The evolution of a process is directed by a pattern of rules\n",
    "called a program. People create programs to direct processes. In effect,\n",
    "we conjure the spirits of the computer with our spells.\"\"\".split()"
   ]
  },
  {
   "cell_type": "code",
   "execution_count": 29,
   "metadata": {},
   "outputs": [],
   "source": [
    "vocab = set(raw_text)\n",
    "vocab_size = len(vocab)"
   ]
  },
  {
   "cell_type": "code",
   "execution_count": 71,
   "metadata": {},
   "outputs": [],
   "source": [
    "word_to_index = {word: i for i, word in enumerate(vocab)}\n",
    "index_to_word = {i: word for i, word in enumerate(vocab)}"
   ]
  },
  {
   "cell_type": "code",
   "execution_count": 68,
   "metadata": {},
   "outputs": [],
   "source": [
    "def create_dataset(text, context_size=CONTEXT_SIZE):\n",
    "    cs = context_size\n",
    "    for i in range(cs, len(text) - cs):\n",
    "        left = [text[i - c] for c in range(cs, 0, -1)]\n",
    "        right = [text[i + c] for c in range(1, cs + 1)]\n",
    "        context = left + right\n",
    "        target = text[i]\n",
    "        row = [word_to_index[word] for word in context + [target]]\n",
    "        yield row"
   ]
  },
  {
   "cell_type": "code",
   "execution_count": 66,
   "metadata": {},
   "outputs": [],
   "source": [
    "class WordsIterator:\n",
    "    \n",
    "    def __init__(self, dataset, bs=8, shuffle=True):\n",
    "        self.dataset = np.asarray(list(dataset))\n",
    "        self.bs = bs\n",
    "        self.shuffle = shuffle\n",
    "        self.n_batches = math.ceil(len(self.dataset) / self.bs)\n",
    "        self.current = 0\n",
    "        \n",
    "    def __iter__(self):\n",
    "        if self.shuffle:\n",
    "            index = np.random.permutation(self.dataset.shape[0])\n",
    "            self.dataset = self.dataset[index]\n",
    "        self.current = 0\n",
    "        return self\n",
    "    \n",
    "    def __next__(self):\n",
    "        if self.current >= self.n_batches:\n",
    "            raise StopIteration()\n",
    "        i, bs = self.current, self.bs\n",
    "        batch = np.asarray(self.dataset[i*bs:(i + 1)*bs])\n",
    "        context, target = [\n",
    "            torch.tensor(x, dtype=torch.long) \n",
    "            for x in (batch[:, :-1], batch[:, -1])]\n",
    "        self.current += 1\n",
    "        return context, target"
   ]
  },
  {
   "cell_type": "code",
   "execution_count": 67,
   "metadata": {},
   "outputs": [],
   "source": [
    "def to_tensor(words, dtype=torch.long):\n",
    "    return torch.tensor([word_to_index[word] for row in word for word in words], dtype=dtype)"
   ]
  },
  {
   "cell_type": "code",
   "execution_count": 133,
   "metadata": {},
   "outputs": [],
   "source": [
    "class CBOW(nn.Module):\n",
    "    \n",
    "    def __init__(self, vocab_size, embedding_dim):\n",
    "        super().__init__()\n",
    "        self.embedding = nn.Embedding(vocab_size, embedding_dim)\n",
    "        self.fc1 = nn.Linear(embedding_dim, 128)\n",
    "        self.fc2 = nn.Linear(128, vocab_size)\n",
    "    \n",
    "    def forward(self, context):\n",
    "        embed = self.embedding(context)\n",
    "        embed_sum = torch.sum(embed, dim=1)\n",
    "        hid = F.relu(self.fc1(embed_sum))\n",
    "        out = self.fc2(hid)\n",
    "        log_probs = F.log_softmax(out, dim=1)\n",
    "        return log_probs"
   ]
  },
  {
   "cell_type": "code",
   "execution_count": 136,
   "metadata": {},
   "outputs": [
    {
     "name": "stdout",
     "output_type": "stream",
     "text": [
      "Epoch 010 loss: 2.905662\n",
      "Epoch 020 loss: 0.037405\n",
      "Epoch 030 loss: 0.005807\n",
      "Epoch 040 loss: 0.002410\n",
      "Epoch 050 loss: 0.000684\n",
      "Epoch 060 loss: 0.000537\n",
      "Epoch 070 loss: 0.000229\n",
      "Epoch 080 loss: 0.000280\n",
      "Epoch 090 loss: 0.000168\n",
      "Epoch 100 loss: 0.000015\n"
     ]
    }
   ],
   "source": [
    "bs = 8\n",
    "n_epochs = 100\n",
    "dataset_iterator = WordsIterator(create_dataset(raw_text))\n",
    "\n",
    "model = CBOW(vocab_size, 150)\n",
    "optimizer = optim.SGD(model.parameters(), momentum=0.999, nesterov=True, lr=0.001)\n",
    "\n",
    "losses = []\n",
    "for epoch in range(n_epochs):\n",
    "    epoch_loss = 0\n",
    "    for context, target in dataset_iterator:\n",
    "        optimizer.zero_grad()\n",
    "        log_probs = model(context)\n",
    "        loss = F.nll_loss(log_probs, target)\n",
    "        loss.backward()\n",
    "        optimizer.step()\n",
    "        epoch_loss += loss.item()\n",
    "    if epoch % 10 == 9:\n",
    "        print('Epoch %03d loss: %2.6f' % (epoch + 1, epoch_loss))\n",
    "    losses.append(epoch_loss)"
   ]
  },
  {
   "cell_type": "code",
   "execution_count": 139,
   "metadata": {},
   "outputs": [
    {
     "data": {
      "text/plain": [
       "[<matplotlib.lines.Line2D at 0x7efff478cda0>]"
      ]
     },
     "execution_count": 139,
     "metadata": {},
     "output_type": "execute_result"
    },
    {
     "data": {
      "image/png": "[encoded data removed]",
      "text/plain": [
       "<matplotlib.figure.Figure at 0x7efff46c8828>"
      ]
     },
     "metadata": {},
     "output_type": "display_data"
    }
   ],
   "source": [
    "plt.plot(losses)"
   ]
  },
  {
   "cell_type": "code",
   "execution_count": 153,
   "metadata": {},
   "outputs": [
    {
     "name": "stdout",
     "output_type": "stream",
     "text": [
      "evolution process of a pattern\n"
     ]
    }
   ],
   "source": [
    "context = 'evolution process a pattern'.split()\n",
    "indexes = [word_to_index[w] for w in context]\n",
    "log_preds = model(torch.LongTensor([indexes]))\n",
    "target = index_to_word[log_preds.argmax().item()]\n",
    "prediction = context[:CONTEXT_SIZE] + [target] + context[CONTEXT_SIZE:]\n",
    "print(' '.join(prediction))"
   ]
  },
  {
   "cell_type": "code",
   "execution_count": null,
   "metadata": {},
   "outputs": [],
   "source": []
  }
 ],
 "metadata": {
  "kernelspec": {
   "display_name": "Python 3",
   "language": "python",
   "name": "python3"
  },
  "language_info": {
   "codemirror_mode": {
    "name": "ipython",
    "version": 3
   },
   "file_extension": ".py",
   "mimetype": "text/x-python",
   "name": "python",
   "nbconvert_exporter": "python",
   "pygments_lexer": "ipython3",
   "version": "3.6.4"
  }
 },
 "nbformat": 4,
 "nbformat_minor": 2
}
