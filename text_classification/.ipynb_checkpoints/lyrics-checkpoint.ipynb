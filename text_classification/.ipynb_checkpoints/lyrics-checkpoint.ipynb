{
 "cells": [
  {
   "cell_type": "code",
   "execution_count": 64,
   "metadata": {},
   "outputs": [],
   "source": [
    "from pathlib import Path\n",
    "import warnings\n",
    "import pickle\n",
    "import types\n",
    "warnings.simplefilter('ignore', category=RuntimeWarning)"
   ]
  },
  {
   "cell_type": "code",
   "execution_count": 117,
   "metadata": {},
   "outputs": [],
   "source": [
    "import torch\n",
    "import numpy as np\n",
    "from fastai.text import RNNLearner\n",
    "from fastai.text import TextDataset, TextClasDataBunch, convert_weights, Vocab\n",
    "from main_imdb import create_or_restore"
   ]
  },
  {
   "cell_type": "code",
   "execution_count": 26,
   "metadata": {},
   "outputs": [],
   "source": [
    "DATA_ROOT = Path.home() / 'data'\n",
    "IMDB_PATH = DATA_ROOT / 'aclImdb'\n",
    "LM_PATH = IMDB_PATH / 'lm'\n",
    "TRAIN_PATH = DATA_ROOT / 'train'\n",
    "TEST_PATH = DATA_ROOT / 'test'\n",
    "\n",
    "LYRICS_PATH = DATA_ROOT / 'azlyrics' / 'prepared'\n",
    "CLASSIFY_PATH = IMDB_PATH / 'cls'"
   ]
  },
  {
   "cell_type": "code",
   "execution_count": 72,
   "metadata": {},
   "outputs": [
    {
     "name": "stdout",
     "output_type": "stream",
     "text": [
      "Loading data from /home/ck/data/aclImdb/datasets\n",
      "train_sup vocab size: 33069\n",
      "test_unsup vocab size: 54255\n",
      "test_sup vocab size: 33069\n",
      "train_unsup vocab size: 54255\n"
     ]
    }
   ],
   "source": [
    "imdb_datasets = create_or_restore(DATA_ROOT)\n",
    "train_itos = imdb_datasets['train_unsup'].vocab.itos\n",
    "\n",
    "with open('itos.pkl', 'wb') as file:\n",
    "    pickle.dump(train_itos, file)\n",
    "\n",
    "vocab = Vocab(Path.cwd())\n",
    "train_ds = TextDataset.from_folder(LYRICS_PATH, vocab=vocab, name='train')\n",
    "valid_ds = TextDataset.from_folder(LYRICS_PATH, vocab=train_ds.vocab, name='test')\n",
    "bunch = TextClasDataBunch.create([train_ds, valid_ds], path=CLASSIFY_PATH)"
   ]
  },
  {
   "cell_type": "code",
   "execution_count": 73,
   "metadata": {},
   "outputs": [],
   "source": [
    "learner = RNNLearner.classifier(bunch, path=LM_PATH)"
   ]
  },
  {
   "cell_type": "code",
   "execution_count": 74,
   "metadata": {},
   "outputs": [],
   "source": [
    "learner.load_encoder('lm_final_enc')"
   ]
  },
  {
   "cell_type": "code",
   "execution_count": 119,
   "metadata": {},
   "outputs": [
    {
     "name": "stdout",
     "output_type": "stream",
     "text": [
      "epoch  train loss  valid loss  accuracy\n",
      "0      1.665988    1.859067    0.366013\n",
      "1      1.564737    1.876938    0.356209\n",
      "2      1.524006    1.877863    0.349673\n",
      "3      1.535829    1.894559    0.310458\n",
      "4      1.556463    1.926206    0.316993\n",
      "5      1.530345    1.904533    0.316993\n",
      "6      1.473818    1.867618    0.349673\n",
      "7      1.471133    1.892054    0.362745\n",
      "8      1.496333    1.935839    0.330065\n",
      "9      1.453613    1.837729    0.411765\n"
     ]
    }
   ],
   "source": [
    "learner.fit(10)"
   ]
  },
  {
   "cell_type": "code",
   "execution_count": 127,
   "metadata": {},
   "outputs": [],
   "source": [
    "_, preds = learner.get_preds()"
   ]
  },
  {
   "cell_type": "code",
   "execution_count": 128,
   "metadata": {},
   "outputs": [
    {
     "data": {
      "text/plain": [
       "0.14052287581699346"
      ]
     },
     "execution_count": 128,
     "metadata": {},
     "output_type": "execute_result"
    }
   ],
   "source": [
    "y_hat = preds.cpu().numpy()\n",
    "y_true = valid_ds.labels\n",
    "np.mean(y_hat == y_true)"
   ]
  }
 ],
 "metadata": {
  "kernelspec": {
   "display_name": "Python 3",
   "language": "python",
   "name": "python3"
  },
  "language_info": {
   "codemirror_mode": {
    "name": "ipython",
    "version": 3
   },
   "file_extension": ".py",
   "mimetype": "text/x-python",
   "name": "python",
   "nbconvert_exporter": "python",
   "pygments_lexer": "ipython3",
   "version": "3.7.0"
  }
 },
 "nbformat": 4,
 "nbformat_minor": 2
}
